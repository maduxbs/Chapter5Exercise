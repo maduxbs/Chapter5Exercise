{
 "cells": [
  {
   "cell_type": "markdown",
   "id": "5a443890",
   "metadata": {},
   "source": [
    "## Algorithm Workbench (Any Two Questions)"
   ]
  },
  {
   "cell_type": "markdown",
   "id": "6d6745ad",
   "metadata": {},
   "source": [
    "## Ex 1"
   ]
  },
  {
   "cell_type": "code",
   "execution_count": 15,
   "id": "dbe582ed",
   "metadata": {},
   "outputs": [
    {
     "name": "stdout",
     "output_type": "stream",
     "text": [
      "The product of 5 multiplied by 10 is: 50\n"
     ]
    }
   ],
   "source": [
    "def multiply_by_10(number):\n",
    "    result = number * 10\n",
    "    print(\"The product of\", number, \"multiplied by 10 is:\", result)\n",
    "\n",
    "# Example usage:\n",
    "multiply_by_10(5)  # Call the function with an argument (e.g., 5)"
   ]
  },
  {
   "cell_type": "markdown",
   "id": "0c83d7fb",
   "metadata": {},
   "source": [
    "## Ex 7"
   ]
  },
  {
   "cell_type": "code",
   "execution_count": 14,
   "id": "6ed1d6da",
   "metadata": {},
   "outputs": [
    {
     "name": "stdout",
     "output_type": "stream",
     "text": [
      "5.0\n"
     ]
    }
   ],
   "source": [
    "# Define the 'number' variable with a value\n",
    "number = 10\n",
    "\n",
    "# Define the 'half' function\n",
    "def half(number):\n",
    "    return number / 2\n",
    "\n",
    "# Call the 'half' function with the 'number' variable and store the result in 'result'\n",
    "result = half(number)\n",
    "\n",
    "# Print the result\n",
    "print(result)"
   ]
  },
  {
   "cell_type": "markdown",
   "id": "eed24390",
   "metadata": {},
   "source": [
    "## Programming Exercises (Four Questions)"
   ]
  },
  {
   "cell_type": "markdown",
   "id": "0e860e83",
   "metadata": {},
   "source": [
    "## Ex 1"
   ]
  },
  {
   "cell_type": "code",
   "execution_count": 16,
   "id": "9a14d635",
   "metadata": {},
   "outputs": [
    {
     "name": "stdout",
     "output_type": "stream",
     "text": [
      "Enter a distance in kilometers: 0.6214\n",
      "0.6214 kilometers is equal to 0.38613795999999995 miles\n"
     ]
    }
   ],
   "source": [
    "# Get the distance in kilometers from the user\n",
    "kilometers = float(input(\"Enter a distance in kilometers: \"))\n",
    "\n",
    "# Perform the conversion to miles using the formula\n",
    "miles = kilometers * 0.6214\n",
    "\n",
    "# Display the result\n",
    "print(f\"{kilometers} kilometers is equal to {miles} miles\")\n"
   ]
  },
  {
   "cell_type": "markdown",
   "id": "e3c49bc7",
   "metadata": {},
   "source": [
    "## Ex 16 "
   ]
  },
  {
   "cell_type": "code",
   "execution_count": 17,
   "id": "05e1da56",
   "metadata": {},
   "outputs": [
    {
     "name": "stdout",
     "output_type": "stream",
     "text": [
      "Number of even numbers: 61\n",
      "Number of odd numbers: 39\n"
     ]
    }
   ],
   "source": [
    "import random\n",
    "\n",
    "# Initialize counters for even and odd numbers\n",
    "even_count = 0\n",
    "odd_count = 0\n",
    "\n",
    "# Generate 100 random numbers and check if they are even or odd\n",
    "for _ in range(100):\n",
    "    random_number = random.randint(1, 1000)  # Generate a random number between 1 and 1000\n",
    "    \n",
    "    if random_number % 2 == 0:\n",
    "        even_count += 1\n",
    "    else:\n",
    "        odd_count += 1\n",
    "\n",
    "# Display the results\n",
    "print(\"Number of even numbers:\", even_count)\n",
    "print(\"Number of odd numbers:\", odd_count)\n"
   ]
  },
  {
   "cell_type": "markdown",
   "id": "fd75d917",
   "metadata": {},
   "source": [
    "## Ex 17"
   ]
  },
  {
   "cell_type": "code",
   "execution_count": 19,
   "id": "473670c8",
   "metadata": {},
   "outputs": [
    {
     "name": "stdout",
     "output_type": "stream",
     "text": [
      "Enter a number: 6\n",
      "6 is not a prime number.\n"
     ]
    }
   ],
   "source": [
    "def is_prime(number):\n",
    "    if number <= 1:\n",
    "        return False  # 0 and 1 are not prime numbers\n",
    "    \n",
    "    if number == 2:\n",
    "        return True  # 2 is a prime number\n",
    "    \n",
    "    if number % 2 == 0:\n",
    "        return False  # Even numbers (except 2) are not prime\n",
    "    \n",
    "    # Check for divisibility from 3 to the square root of the number\n",
    "    for divisor in range(3, int(number**0.5) + 1, 2):\n",
    "        if number % divisor == 0:\n",
    "            return False  # Number is divisible, not prime\n",
    "    \n",
    "    return True  # Number is prime\n",
    "\n",
    "# Input a number from the user\n",
    "num = int(input(\"Enter a number: \"))\n",
    "\n",
    "# Check if the number is prime and display the result\n",
    "if is_prime(num):\n",
    "    print(num, \"is a prime number.\")\n",
    "else:\n",
    "    print(num, \"is not a prime number.\")"
   ]
  },
  {
   "cell_type": "markdown",
   "id": "2bac1b3c",
   "metadata": {},
   "source": [
    "## Ex 18"
   ]
  },
  {
   "cell_type": "code",
   "execution_count": 20,
   "id": "a42b07aa",
   "metadata": {},
   "outputs": [
    {
     "name": "stdout",
     "output_type": "stream",
     "text": [
      "Prime numbers from 1 to 100:\n",
      "2\n",
      "3\n",
      "5\n",
      "7\n",
      "11\n",
      "13\n",
      "17\n",
      "19\n",
      "23\n",
      "29\n",
      "31\n",
      "37\n",
      "41\n",
      "43\n",
      "47\n",
      "53\n",
      "59\n",
      "61\n",
      "67\n",
      "71\n",
      "73\n",
      "79\n",
      "83\n",
      "89\n",
      "97\n"
     ]
    }
   ],
   "source": [
    "# Boolean function to check if a number is prime\n",
    "def is_prime(number):\n",
    "    if number <= 1:\n",
    "        return False\n",
    "    \n",
    "    if number == 2:\n",
    "        return True\n",
    "    \n",
    "    if number % 2 == 0:\n",
    "        return False\n",
    "    \n",
    "    for divisor in range(3, int(number**0.5) + 1, 2):\n",
    "        if number % divisor == 0:\n",
    "            return False\n",
    "    \n",
    "    return True\n",
    "\n",
    "# Display prime numbers from 1 to 100\n",
    "print(\"Prime numbers from 1 to 100:\")\n",
    "for num in range(1, 101):\n",
    "    if is_prime(num):\n",
    "        print(num)\n"
   ]
  },
  {
   "cell_type": "markdown",
   "id": "5f8a67b0",
   "metadata": {},
   "source": [
    "## Ex 20"
   ]
  },
  {
   "cell_type": "code",
   "execution_count": 21,
   "id": "32c4a22d",
   "metadata": {},
   "outputs": [
    {
     "name": "stdout",
     "output_type": "stream",
     "text": [
      "Guess the number (between 1 and 100): 20\n",
      "Too low, try again.\n",
      "Guess the number (between 1 and 100): 55\n",
      "Congratulations! You guessed the correct number: 55\n",
      "Do you want to play again? (yes/no): no\n",
      "Thanks for playing! Goodbye.\n"
     ]
    }
   ],
   "source": [
    "import random\n",
    "\n",
    "def main():\n",
    "    # Generate a random number between 1 and 100\n",
    "    secret_number = random.randint(1, 100)\n",
    "    \n",
    "    while True:\n",
    "        try:\n",
    "            # Ask the user to guess the number\n",
    "            guess = int(input(\"Guess the number (between 1 and 100): \"))\n",
    "            \n",
    "            # Check if the guess is correct\n",
    "            if guess == secret_number:\n",
    "                print(\"Congratulations! You guessed the correct number:\", secret_number)\n",
    "                play_again = input(\"Do you want to play again? (yes/no): \").lower()\n",
    "                if play_again == \"yes\":\n",
    "                    secret_number = random.randint(1, 100)\n",
    "                else:\n",
    "                    print(\"Thanks for playing! Goodbye.\")\n",
    "                    break\n",
    "            elif guess < secret_number:\n",
    "                print(\"Too low, try again.\")\n",
    "            else:\n",
    "                print(\"Too high, try again.\")\n",
    "        except ValueError:\n",
    "            print(\"Please enter a valid number.\")\n",
    "\n",
    "if __name__ == \"__main__\":\n",
    "    main()\n"
   ]
  }
 ],
 "metadata": {
  "kernelspec": {
   "display_name": "Python 3 (ipykernel)",
   "language": "python",
   "name": "python3"
  },
  "language_info": {
   "codemirror_mode": {
    "name": "ipython",
    "version": 3
   },
   "file_extension": ".py",
   "mimetype": "text/x-python",
   "name": "python",
   "nbconvert_exporter": "python",
   "pygments_lexer": "ipython3",
   "version": "3.11.4"
  }
 },
 "nbformat": 4,
 "nbformat_minor": 5
}
